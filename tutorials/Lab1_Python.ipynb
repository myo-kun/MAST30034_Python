{
 "cells": [
  {
   "cell_type": "markdown",
   "metadata": {
    "heading_collapsed": true
   },
   "source": [
    "# Applied Data Science (MAST30034) \n",
    "## Welcome\n",
    "Welcome to Applied Data Science for 2021 Semester 2! \n",
    "\n",
    "This is a capstone project subject, hence, expectations are higher than most other subjects that you will take in your undergraduate course. It is expected that students have already completed assessments to a satisfactory level for the following subjects:\n",
    "- Elements of Data Processing (COMP20008)\n",
    "- Statistics (MAST20005)\n",
    "- Machine Leaarning (COMP30027)\n",
    "- Linear Statistical Models (MAST30025)"
   ]
  },
  {
   "cell_type": "markdown",
   "metadata": {
    "hidden": true
   },
   "source": [
    "## Teaching Team\n",
    "Your teaching staff will be as follows:\n",
    "- Lecturer: Dr. Karim Seghouane (Assignment 1)\n",
    "- Subject Instructor: Akira Wang (Project 1 and 2)\n",
    "- Tutors: Yue You and Calvin Huang\n",
    "\n",
    "## Tutorial Structure\n",
    "- Tutorials are broken into Python and R streams to support students in whichever language they prefer.\n",
    "- The first hour of the tutorial will be based on general programming how-to's and walkthroughs.\n",
    "- The remainder of the tutorial will generally follow a consultation / free-for-all style. That is, we can cover a topic of request out of the *Advanced Tutorials* module, answer project related questions, or ask questions about industry / applying for jobs. \n",
    "- You are free to attend any tutorial time, either half (or the full 2 hours) of the tutorial depending on your interests. You are all classified as *experienced university veterans* so do what works for you.\n",
    "- Finally, tutorial attendence is not marked for the duration of Project 1 and Assignment 1, but there is an expectation that you attend tutorials with your group for Project 2. More details closer to the release date."
   ]
  },
  {
   "cell_type": "markdown",
   "metadata": {
    "hidden": true
   },
   "source": [
    "_________________\n"
   ]
  },
  {
   "cell_type": "markdown",
   "metadata": {},
   "source": [
    "# Lab 1 Overview\n",
    "## First Half\n",
    "Using the JupyterHub server:\n",
    "- https://jupyter.mast30034.science.unimelb.edu.au\n",
    "- Please log in to verify you have access.\n",
    "- If you would like to install packages, please use `pip3 install package_name`\n",
    "\n",
    "Using GitHub Desktop vs Git CLI (Command Line Interface):\n",
    "- Create a repository for your Project 1, push a commit, and ensure your repository accepts the changes.\n",
    "\n",
    "Project 1 Tips:\n",
    "- How to get started and what to look out for.\n",
    "- Getting started on Latex with [Overleaf](https://www.overleaf.com).\n",
    "\n",
    "## Second Half\n",
    "Revision:\n",
    "- Variable names, magic numbers, and constants.\n",
    "- Docstrings and comments.\n",
    "- Plotting geospatial maps the correct way.\n",
    "- Jupyter Notebook Magic Cells.\n",
    "- Data Serialisation.\n",
    "- Downloading files using `urllib`.\n",
    "\n",
    "Advanced (Optional):\n",
    "- (Windows 10 Users) Installing WSL2 (Ubuntu 20.04) for a clean environment.\n",
    "- Introduction to Apache Spark 3.0"
   ]
  },
  {
   "cell_type": "markdown",
   "metadata": {},
   "source": [
    "## General Tips for Jupyter Notebook\n",
    "Cell shortcuts:\n",
    "- `shift + enter` : Run current cell (equivalent of pressing <button class='btn btn-default btn-xs'><i class=\"fa-play fa\"></i><span class=\"toolbar-btn-label\">Run</span></button>)\n",
    "- `ctrl + enter` : Run selected cells\n",
    "\n",
    "Command mode (press `esc` to enter):\n",
    "- `m` : Makes the cell markdown\n",
    "- `y` : Makes the cell into code\n",
    "- `a` : Insert cell above\n",
    "- `b` : Insert cell above\n",
    "- double `d` : Delete current cell\n",
    "\n",
    "Code Shortcuts:\n",
    "- `shift + tab` : brings function arguments\n",
    "\n",
    "Multiline Cursor:\n",
    "- Hold down `ctrl` on Windows or `command` on Mac and click on the places you wish to edit all together."
   ]
  },
  {
   "cell_type": "markdown",
   "metadata": {},
   "source": [
    "_________________\n"
   ]
  },
  {
   "cell_type": "markdown",
   "metadata": {},
   "source": [
    "## Using `git` on the VM\n",
    "\n",
    "- Visit https://github.com/settings/tokens \n",
    "- Generate a token (set it to expire end of this year)\n",
    "- Add changes and commit as usual\n",
    "- Now, after inputting your username, instead of entering your normal password, enter your generated PAT.\n",
    "- Changes should be pushed.\n",
    "\n",
    "**Cloning:** \n",
    "1. Open a terminal (yes it is commandline `git` for this to work).\n",
    "2. `git clone HTTPS` (where HTTPS is the https url to your gitlab repo).\n",
    "3. Enter your credentials.\n",
    "4. Done.\n",
    "\n",
    "**Pushing:** \n",
    "1. Change directories to inside your repository (`cd NAME_OF_REPO_FOLDER`).\n",
    "2. `git add -A` (this will stage all changed/untracked files files for the next commit, ignored files are excepted). You can use `git status` to track changed files before adding.\n",
    "3. `git commit -m \"message\"` (make a commit with a message).\n",
    "5. `git push`\n",
    "6. Enter your credentials.\n",
    "    - Here, use the same username\n",
    "    - BUT, instead of your password, use the PAT you generated.\n",
    "7. Done.\n",
    "\n",
    "**Pulling:** \n",
    "1. Change directories to inside your repository (`cd NAME_OF_REPO_FOLDER`).\n",
    "2. `git pull`\n",
    "3. Done.\n",
    "\n",
    "**Global Config**   \n",
    "The first thing you should do when you install `git` is to set your user name and email address. This is important because every Git commit uses this information:\n",
    "```bash\n",
    "git config --global user.name \"Your name as a string\"\n",
    "git config --global user.email some_email@example.com\n",
    "```"
   ]
  },
  {
   "cell_type": "markdown",
   "metadata": {},
   "source": [
    "_________________\n"
   ]
  },
  {
   "cell_type": "markdown",
   "metadata": {},
   "source": [
    "# Readable Code\n",
    "- We will be assessing the quality of your code and how you present it in your notebooks. \n",
    "- This is because there is no point writing code that cannot be easily interpreted. At the end of the day, clients are paying for your analysis, but also the corresponding code. \n",
    "- If your code is confusing or difficult to read, there is little chance your client will come back to you.\n",
    "\n",
    "**Variable Names:**  \n",
    "As long as you are consistent, then it is fine. For example, commit to either using:\n",
    "- Snake Case: words are seperated by underscores such as `variable_name`\n",
    "- Camel Case: words are seperated by captials such as `variableName`\n",
    "\n",
    "Your variables should be contextual and describe the code. That is, try to name your variables to be understandable **without comments**.\n",
    "\n",
    "**Comments and Docstrings (w.r.t JupyterNotebook Cells):**  \n",
    "Cells in Jupyter Notebook should aim to do one \"block of logic\" at a time (i.e importing libraries, defining functions, filtering rows, etc).\n",
    "- If it takes a reader more than a few seconds to understand your cell, you need comments.\n",
    "- Your functions need to have docstrings describing what they do."
   ]
  },
  {
   "cell_type": "code",
   "execution_count": null,
   "metadata": {
    "ExecuteTime": {
     "end_time": "2021-07-25T01:03:27.537456Z",
     "start_time": "2021-07-25T01:03:26.630617Z"
    }
   },
   "outputs": [],
   "source": [
    "import pandas as pd\n",
    "import numpy as np\n",
    "import seaborn as sns\n",
    "import matplotlib.pyplot as plt\n",
    "\n",
    "# a nice way of filtering out deprecated warnings\n",
    "import warnings\n",
    "warnings.filterwarnings(\"ignore\")"
   ]
  },
  {
   "cell_type": "code",
   "execution_count": null,
   "metadata": {
    "ExecuteTime": {
     "end_time": "2021-07-25T01:03:38.964887Z",
     "start_time": "2021-07-25T01:03:38.797744Z"
    }
   },
   "outputs": [],
   "source": [
    "df = pd.read_csv(\"../data/sample.csv\")\n",
    "\n",
    "df.tail()"
   ]
  },
  {
   "cell_type": "markdown",
   "metadata": {},
   "source": [
    "## Revision of Pandas Methods and Attributes"
   ]
  },
  {
   "cell_type": "code",
   "execution_count": null,
   "metadata": {
    "ExecuteTime": {
     "end_time": "2021-07-25T01:04:54.134734Z",
     "start_time": "2021-07-25T01:04:54.131255Z"
    }
   },
   "outputs": [],
   "source": [
    "df.columns"
   ]
  },
  {
   "cell_type": "code",
   "execution_count": null,
   "metadata": {
    "ExecuteTime": {
     "end_time": "2021-07-25T01:04:59.540638Z",
     "start_time": "2021-07-25T01:04:59.535703Z"
    }
   },
   "outputs": [],
   "source": [
    "df.dtypes"
   ]
  },
  {
   "cell_type": "code",
   "execution_count": null,
   "metadata": {
    "ExecuteTime": {
     "end_time": "2021-07-25T01:05:53.521079Z",
     "start_time": "2021-07-25T01:05:53.491266Z"
    }
   },
   "outputs": [],
   "source": [
    "COORDS = ['pickup_latitude', 'pickup_longitude']\n",
    "\n",
    "df[COORDS].describe()"
   ]
  },
  {
   "cell_type": "code",
   "execution_count": null,
   "metadata": {
    "ExecuteTime": {
     "end_time": "2021-07-25T01:08:19.716818Z",
     "start_time": "2021-07-25T01:08:19.700346Z"
    }
   },
   "outputs": [],
   "source": [
    "df[COORDS].describe().loc[['min','max']]"
   ]
  },
  {
   "cell_type": "markdown",
   "metadata": {},
   "source": [
    "`.loc[]` has probably seen some significant updates since you first used it.\n",
    "1. How to correctly use it to *slice* a DataFrame.\n",
    "\n",
    "```python\n",
    "df.loc[CONDITION, COLUMNS]\n",
    "```\n",
    "where:\n",
    "- `CONDITION` returns a boolean value denoting the rows to keep.\n",
    "- `CONDITION` can be multiple conditions using `&` (and) and `|` (or).\n",
    "- `COLUMNS` is either a single column name as a `string` or an array of column names."
   ]
  },
  {
   "cell_type": "code",
   "execution_count": null,
   "metadata": {
    "ExecuteTime": {
     "end_time": "2021-07-25T01:10:05.385938Z",
     "start_time": "2021-07-25T01:10:05.373653Z"
    }
   },
   "outputs": [],
   "source": [
    "df.loc[df['VendorID'] == 1, ['trip_distance', 'pickup_longitude','pickup_latitude']]"
   ]
  },
  {
   "cell_type": "code",
   "execution_count": null,
   "metadata": {
    "ExecuteTime": {
     "end_time": "2021-07-25T01:10:32.657450Z",
     "start_time": "2021-07-25T01:10:32.645747Z"
    }
   },
   "outputs": [],
   "source": [
    "df.loc[(df['VendorID'] == 1) & (df['passenger_count'] > 0), \n",
    "       ['trip_distance', 'pickup_longitude','pickup_latitude']]"
   ]
  },
  {
   "cell_type": "markdown",
   "metadata": {},
   "source": [
    "2. How to correctly use it to update certain values in a DataFrame.\n",
    "\n",
    "```python\n",
    "df.loc[CONDITION, COLUMNS] = values\n",
    "```\n",
    "where:\n",
    "- `values` is either a constant to assign or an array of values with matching dimensions."
   ]
  },
  {
   "cell_type": "code",
   "execution_count": null,
   "metadata": {
    "ExecuteTime": {
     "end_time": "2021-07-25T01:12:18.458522Z",
     "start_time": "2021-07-25T01:12:18.454688Z"
    }
   },
   "outputs": [],
   "source": [
    "df.loc[(df['pickup_longitude'] == 0) & (df['pickup_latitude'] == 0), 'trip_distance'] = 0"
   ]
  },
  {
   "cell_type": "code",
   "execution_count": null,
   "metadata": {
    "ExecuteTime": {
     "end_time": "2021-07-25T01:12:50.447288Z",
     "start_time": "2021-07-25T01:12:50.441628Z"
    }
   },
   "outputs": [],
   "source": [
    "df.loc[(df['pickup_longitude'] == 0) & (df['pickup_latitude'] == 0), 'trip_distance']"
   ]
  },
  {
   "cell_type": "markdown",
   "metadata": {},
   "source": [
    "This sets the trip distance to `0` for coordinates that have a latitude **and** longitude at `0, 0` (which is invalid).   \n",
    "Since we are visualising data today, we will drop all invalid points (though you will have to justify this in your report)."
   ]
  },
  {
   "cell_type": "code",
   "execution_count": null,
   "metadata": {
    "ExecuteTime": {
     "end_time": "2021-07-25T01:13:24.645186Z",
     "start_time": "2021-07-25T01:13:24.635936Z"
    }
   },
   "outputs": [],
   "source": [
    "df = df.loc[(df['pickup_latitude'] > 40) & (df['pickup_latitude'] < 41) & (df['pickup_longitude'] < -73)]"
   ]
  },
  {
   "cell_type": "code",
   "execution_count": null,
   "metadata": {
    "ExecuteTime": {
     "end_time": "2021-07-25T01:13:56.802389Z",
     "start_time": "2021-07-25T01:13:56.784392Z"
    }
   },
   "outputs": [],
   "source": [
    "df[COORDS].describe()"
   ]
  },
  {
   "cell_type": "markdown",
   "metadata": {},
   "source": [
    "## Plotting a geospatial map using `folium` and `bokeh`\n",
    "Some terminology before we continue:\n",
    "- Map Tiles / Tile Providers: The underlying map \"style\" (i.e Google Maps vs Open Street View)\n",
    "\n",
    "Let's start off with `folium`."
   ]
  },
  {
   "cell_type": "code",
   "execution_count": null,
   "metadata": {
    "ExecuteTime": {
     "end_time": "2021-07-25T01:15:06.696921Z",
     "start_time": "2021-07-25T01:15:06.478465Z"
    }
   },
   "outputs": [],
   "source": [
    "import folium"
   ]
  },
  {
   "cell_type": "code",
   "execution_count": null,
   "metadata": {
    "ExecuteTime": {
     "end_time": "2021-07-25T01:15:38.613762Z",
     "start_time": "2021-07-25T01:15:38.600271Z"
    }
   },
   "outputs": [],
   "source": [
    "# initialise a map\n",
    "m = folium.Map(tiles=\"Stamen Terrain\", zoom_start=10)\n",
    "\n",
    "# save map\n",
    "m.save('../plots/map.html')\n",
    "\n",
    "# show map\n",
    "m"
   ]
  },
  {
   "cell_type": "markdown",
   "metadata": {},
   "source": [
    "For your Project 1, we will be working with NYC. Here's one method of setting it up."
   ]
  },
  {
   "cell_type": "code",
   "execution_count": null,
   "metadata": {
    "ExecuteTime": {
     "end_time": "2021-07-25T01:17:52.081127Z",
     "start_time": "2021-07-25T01:17:52.062265Z"
    }
   },
   "outputs": [],
   "source": [
    "# mcoords = the middle coordinates for the map\n",
    "mcoords = df[COORDS].describe().loc[[\"50%\"]].values[0]\n",
    "\n",
    "# axis ranges\n",
    "xRange = [df['pickup_longitude'].min(), df['pickup_longitude'].max()]\n",
    "yRange = [df['pickup_latitude'].min(), df['pickup_latitude'].max()]\n",
    "\n",
    "xRange, yRange"
   ]
  },
  {
   "cell_type": "code",
   "execution_count": null,
   "metadata": {
    "ExecuteTime": {
     "end_time": "2021-07-25T01:18:45.044188Z",
     "start_time": "2021-07-25T01:18:45.033478Z"
    }
   },
   "outputs": [],
   "source": [
    "nyc_m = folium.Map(location=mcoords, tiles=\"Stamen Terrain\", zoom_start=11)\n",
    "\n",
    "nyc_m.save('../plots/folium_nyc.html')\n",
    "\n",
    "nyc_m"
   ]
  },
  {
   "cell_type": "markdown",
   "metadata": {},
   "source": [
    "Now let's do the equivalent in `bokeh`."
   ]
  },
  {
   "cell_type": "code",
   "execution_count": null,
   "metadata": {
    "ExecuteTime": {
     "end_time": "2021-07-25T01:19:59.508038Z",
     "start_time": "2021-07-25T01:19:59.302395Z"
    }
   },
   "outputs": [],
   "source": [
    "from bokeh.plotting import figure, show\n",
    "from bokeh.tile_providers import get_provider, Vendors\n",
    "\n",
    "# to display bokeh plots inside jupyter, we need to use output_notebook\n",
    "from bokeh.io import reset_output, output_notebook\n",
    "\n",
    "reset_output()\n",
    "output_notebook()\n",
    "# note below that it says \"BokehJS 1.4.0 successfully loaded.\""
   ]
  },
  {
   "cell_type": "markdown",
   "metadata": {},
   "source": [
    "Bokeh requires axis to be in Mercer format and doesn't accept latitude/longitude\n",
    "- https://en.wikipedia.org/wiki/Web_Mercator_projection\n",
    "\n",
    "You may use the functions below for your Project 1, but you must attribute the code accordingly."
   ]
  },
  {
   "cell_type": "code",
   "execution_count": null,
   "metadata": {
    "ExecuteTime": {
     "end_time": "2021-07-25T01:21:40.041159Z",
     "start_time": "2021-07-25T01:21:40.038023Z"
    }
   },
   "outputs": [],
   "source": [
    "def latitude_to_mercator(coords):\n",
    "    \"\"\"\n",
    "    Function which converts an array of latitude coordinates \n",
    "    into its mercator coordinate representation\n",
    "    \"\"\"\n",
    "    k = 6378137\n",
    "    converted = list()\n",
    "    for lat in coords:\n",
    "        converted.append(np.log(np.tan((90 + lat) * np.pi/360.0)) * k)\n",
    "    return converted\n",
    "\n",
    "def longitude_to_mercator(coords):\n",
    "    \"\"\"\n",
    "    Function which converts an array of longitude coordinates \n",
    "    into its mercator coordinate representation\n",
    "    \"\"\"\n",
    "    k = 6378137\n",
    "    converted = list()\n",
    "    for lon in coords:\n",
    "        converted.append(lon * (k * np.pi/180.0))\n",
    "    return converted"
   ]
  },
  {
   "cell_type": "markdown",
   "metadata": {},
   "source": [
    "Let's view all the possible map tiles that you can use."
   ]
  },
  {
   "cell_type": "code",
   "execution_count": null,
   "metadata": {
    "ExecuteTime": {
     "end_time": "2021-07-25T01:21:44.553746Z",
     "start_time": "2021-07-25T01:21:44.342413Z"
    },
    "scrolled": true
   },
   "outputs": [],
   "source": [
    "# for each map type in list of vendors available\n",
    "for mapType in Vendors:\n",
    "    # create plot with the coordinates we computed above\n",
    "    p = figure(x_range=longitude_to_mercator(xRange), y_range=latitude_to_mercator(yRange),\n",
    "           x_axis_type=\"mercator\", y_axis_type=\"mercator\")\n",
    "    \n",
    "    # add the underlying tile from our provider\n",
    "    p.add_tile(get_provider(mapType))\n",
    "    p.title.text = mapType\n",
    "    \n",
    "    # display the plot\n",
    "    show(p)"
   ]
  },
  {
   "cell_type": "markdown",
   "metadata": {},
   "source": [
    "You should decide on which tile to use for your plots. My suggestion is you stick to `STAMEN_TERRAIN_RETINA`.\n",
    "\n",
    "(Advanced) If you would like to use Bokeh to plot Google Map tiles:\n",
    "- https://docs.bokeh.org/en/latest/docs/user_guide/geo.html"
   ]
  },
  {
   "cell_type": "markdown",
   "metadata": {},
   "source": [
    "Now, let's try plotting something over the map."
   ]
  },
  {
   "cell_type": "code",
   "execution_count": null,
   "metadata": {
    "ExecuteTime": {
     "end_time": "2021-07-25T01:24:00.236817Z",
     "start_time": "2021-07-25T01:24:00.231357Z"
    }
   },
   "outputs": [],
   "source": [
    "TILE = get_provider(\"STAMEN_TERRAIN_RETINA\")\n",
    "\n",
    "pickup_m = figure(x_range=longitude_to_mercator(xRange), y_range=latitude_to_mercator(yRange),\n",
    "       x_axis_type=\"mercator\", y_axis_type=\"mercator\")\n",
    "pickup_m.add_tile(TILE)\n",
    "pickup_m.title.text = \"Pickups in NYC\""
   ]
  },
  {
   "cell_type": "code",
   "execution_count": null,
   "metadata": {
    "ExecuteTime": {
     "end_time": "2021-07-25T01:24:16.942813Z",
     "start_time": "2021-07-25T01:24:16.935256Z"
    }
   },
   "outputs": [],
   "source": [
    "df[COORDS]"
   ]
  },
  {
   "cell_type": "code",
   "execution_count": null,
   "metadata": {
    "ExecuteTime": {
     "end_time": "2021-07-25T01:24:39.845981Z",
     "start_time": "2021-07-25T01:24:39.617716Z"
    }
   },
   "outputs": [],
   "source": [
    "df['pickupX'] = df['pickup_longitude'].apply(lambda x: longitude_to_mercator([x])[0])\n",
    "df['pickupY'] = df['pickup_latitude'].apply(lambda x: latitude_to_mercator([x])[0])"
   ]
  },
  {
   "cell_type": "code",
   "execution_count": null,
   "metadata": {
    "ExecuteTime": {
     "end_time": "2021-07-25T01:24:40.883319Z",
     "start_time": "2021-07-25T01:24:40.867308Z"
    }
   },
   "outputs": [],
   "source": [
    "df.head()"
   ]
  },
  {
   "cell_type": "code",
   "execution_count": null,
   "metadata": {
    "ExecuteTime": {
     "end_time": "2021-07-25T01:25:08.352510Z",
     "start_time": "2021-07-25T01:25:08.264987Z"
    }
   },
   "outputs": [],
   "source": [
    "# for every source value, draw a small circle denoting a pickup\n",
    "pickup_m.circle(x='pickupX', y='pickupY', \n",
    "         size=5, fill_color=\"blue\", fill_alpha=0.5, \n",
    "         source=df[['pickupX','pickupY']])"
   ]
  },
  {
   "cell_type": "code",
   "execution_count": null,
   "metadata": {
    "ExecuteTime": {
     "end_time": "2021-07-25T01:25:21.065261Z",
     "start_time": "2021-07-25T01:25:20.979277Z"
    }
   },
   "outputs": [],
   "source": [
    "show(pickup_m)"
   ]
  },
  {
   "cell_type": "markdown",
   "metadata": {},
   "source": [
    "The equivalent for dropoffs."
   ]
  },
  {
   "cell_type": "code",
   "execution_count": null,
   "metadata": {
    "ExecuteTime": {
     "end_time": "2021-07-25T01:25:54.768163Z",
     "start_time": "2021-07-25T01:25:54.380656Z"
    },
    "code_folding": []
   },
   "outputs": [],
   "source": [
    "# create map\n",
    "dropoff = figure(x_range=longitude_to_mercator(xRange), y_range=latitude_to_mercator(yRange),\n",
    "       x_axis_type=\"mercator\", y_axis_type=\"mercator\")\n",
    "dropoff.add_tile(TILE)\n",
    "dropoff.title.text = \"Dropoff in NYC\"\n",
    "\n",
    "# convert to mercer\n",
    "df['dropoffX'] = df['dropoff_longitude'].apply(lambda x: longitude_to_mercator([x])[0])\n",
    "df['dropoffY'] = df['dropoff_latitude'].apply(lambda x: latitude_to_mercator([x])[0])\n",
    "\n",
    "# plot circles (source = data source)\n",
    "dropoff.circle(x='dropoffX', y='dropoffY', \n",
    "         size=5, color=\"pink\", fill_color=\"red\", fill_alpha=0.5, \n",
    "         source=df[['dropoffX','dropoffY']])\n",
    "\n",
    "show(dropoff)"
   ]
  },
  {
   "cell_type": "markdown",
   "metadata": {},
   "source": [
    "## Geospatial Inferences\n",
    "- More pickups around central Manhattan, with more dropoffs in the surrounding bouroughs.\n",
    "- Pickup location are easily divided into \"hubs\" (i.e Manhattan, Aiport, etc).\n",
    "- Dropoffs seem to be scattered across the map.\n",
    "\n",
    "**IMPORTANT:** The above is at most *describing* the plot. Your project will require *analysis* and *research* on top of describing a plot. That is:\n",
    "- *Why might there be more pickups around central Manhattan?*\n",
    "- *Is there an explanation surrounding the \"hubs\"?*\n",
    "- *Why are dropoffs scattered across the map?*\n",
    "\n",
    "As a suggestion, have less description and more analysis. Your visualisation should ensure that it can be easily interpreted and visible (i.e suitable font size, colour, alpha, legend, etc.)"
   ]
  },
  {
   "cell_type": "markdown",
   "metadata": {},
   "source": [
    "### Where to go from here\n",
    "We have a simple visualisation on the pickups and dropoffs, but how might they be affected?\n",
    "- Perhaps we can take a look at the time, day of week, the weather conditions, events that are taking place, etc.\n",
    "\n",
    "It is up to you to find an external dataset to answer these questions."
   ]
  },
  {
   "cell_type": "markdown",
   "metadata": {},
   "source": [
    "_________________\n"
   ]
  },
  {
   "cell_type": "markdown",
   "metadata": {},
   "source": [
    "## Data Serialisation\n",
    "Pickle: \n",
    "- Lightweight and super fast serialization for data.\n",
    "- Python native and compatible with several data formats.\n",
    "- High space, Low time.\n",
    "\n",
    "Feather:\n",
    "- Lightweight and super fast serialization for data using Apache Arrow.\n",
    "- Python **and** R native, though not compatible with all data formats.\n",
    "- Medium space, Low time.\n",
    "- If you don't have it installed, use `pip3 install feather-format`"
   ]
  },
  {
   "cell_type": "markdown",
   "metadata": {},
   "source": [
    "**Notes:**  \n",
    "- The `feather` format does not support serializing to a non-default index (similar to a database).\n",
    "- That is, we need a unique index by default as a column, and the only way to ensure this is the case is by resetting the index.\n",
    "- As for `pickle`, it is Python built-in so you can just use `.to_pickle()`"
   ]
  },
  {
   "cell_type": "code",
   "execution_count": null,
   "metadata": {
    "ExecuteTime": {
     "end_time": "2021-07-25T01:33:01.066856Z",
     "start_time": "2021-07-25T01:33:00.929714Z"
    }
   },
   "outputs": [],
   "source": [
    "df.reset_index().to_feather('../data/lab_specific/sample.feather')"
   ]
  },
  {
   "cell_type": "code",
   "execution_count": null,
   "metadata": {
    "ExecuteTime": {
     "end_time": "2021-07-25T01:33:01.415887Z",
     "start_time": "2021-07-25T01:33:01.402026Z"
    }
   },
   "outputs": [],
   "source": [
    "df.to_pickle('../data/lab_specific/sample.pkl')"
   ]
  },
  {
   "cell_type": "code",
   "execution_count": null,
   "metadata": {
    "ExecuteTime": {
     "end_time": "2021-07-25T01:33:27.901795Z",
     "start_time": "2021-07-25T01:33:27.777143Z"
    }
   },
   "outputs": [],
   "source": [
    "%%time\n",
    "df_csv = pd.read_csv('../data/sample.csv')"
   ]
  },
  {
   "cell_type": "code",
   "execution_count": null,
   "metadata": {
    "ExecuteTime": {
     "end_time": "2021-07-25T01:33:28.069431Z",
     "start_time": "2021-07-25T01:33:28.027932Z"
    }
   },
   "outputs": [],
   "source": [
    "%%time\n",
    "df_feather = pd.read_feather('../data/lab_specific/sample.feather')"
   ]
  },
  {
   "cell_type": "code",
   "execution_count": null,
   "metadata": {
    "ExecuteTime": {
     "end_time": "2021-07-25T01:33:28.491899Z",
     "start_time": "2021-07-25T01:33:28.479269Z"
    }
   },
   "outputs": [],
   "source": [
    "%%time\n",
    "df_pickle = pd.read_pickle('../data/lab_specific/sample.pkl')"
   ]
  },
  {
   "cell_type": "markdown",
   "metadata": {},
   "source": [
    "_________________\n"
   ]
  },
  {
   "cell_type": "markdown",
   "metadata": {},
   "source": [
    "## Downloading Files"
   ]
  },
  {
   "cell_type": "code",
   "execution_count": null,
   "metadata": {
    "ExecuteTime": {
     "end_time": "2021-07-25T01:34:36.191529Z",
     "start_time": "2021-07-25T01:34:33.866114Z"
    },
    "scrolled": true
   },
   "outputs": [],
   "source": [
    "from os.path import getsize\n",
    "from urllib.request import urlretrieve\n",
    "\n",
    "output_dir = \"../data/\"\n",
    "fname = \"sample_downloaded.csv\"\n",
    "\n",
    "# its this easy\n",
    "url = \"https://raw.githubusercontent.com/akiratwang/MAST30034_Python/main/data/sample.csv\"\n",
    "urlretrieve(url, f\"{output_dir}/{fname}\")\n",
    "\n",
    "print(f\"Done downloading {fname} to {output_dir} with size {getsize(f'{output_dir}/{fname}') / 1073741824:.2f}GB\")"
   ]
  },
  {
   "cell_type": "markdown",
   "metadata": {},
   "source": [
    "_________________\n"
   ]
  },
  {
   "cell_type": "markdown",
   "metadata": {},
   "source": [
    "## WSL Environment for Windows 10\n",
    "Refer to this guide to get a native Linux terminal in Windows 10:\n",
    "- https://github.com/akiratwang/COMP20003\n",
    "- Ignore all the `C` related parts, just get Ubuntu installed.\n",
    "\n",
    "## Apache Spark 3.0 (PySpark) Installation\n",
    "- Visit `MAST30034_Python/advanced_tutorials/Spark%20Installation.ipynb`"
   ]
  },
  {
   "cell_type": "code",
   "execution_count": null,
   "metadata": {},
   "outputs": [],
   "source": []
  }
 ],
 "metadata": {
  "kernelspec": {
   "display_name": "Python 3",
   "language": "python",
   "name": "python3"
  },
  "language_info": {
   "codemirror_mode": {
    "name": "ipython",
    "version": 3
   },
   "file_extension": ".py",
   "mimetype": "text/x-python",
   "name": "python",
   "nbconvert_exporter": "python",
   "pygments_lexer": "ipython3",
   "version": "3.8.10"
  },
  "latex_envs": {
   "LaTeX_envs_menu_present": true,
   "autoclose": false,
   "autocomplete": true,
   "bibliofile": "biblio.bib",
   "cite_by": "apalike",
   "current_citInitial": 1,
   "eqLabelWithNumbers": true,
   "eqNumInitial": 1,
   "hotkeys": {
    "equation": "Ctrl-E",
    "itemize": "Ctrl-I"
   },
   "labels_anchors": false,
   "latex_user_defs": false,
   "report_style_numbering": false,
   "user_envs_cfg": false
  },
  "toc": {
   "base_numbering": 1,
   "nav_menu": {},
   "number_sections": true,
   "sideBar": true,
   "skip_h1_title": false,
   "title_cell": "Table of Contents",
   "title_sidebar": "Contents",
   "toc_cell": false,
   "toc_position": {},
   "toc_section_display": true,
   "toc_window_display": false
  },
  "varInspector": {
   "cols": {
    "lenName": 16,
    "lenType": 16,
    "lenVar": 40
   },
   "kernels_config": {
    "python": {
     "delete_cmd_postfix": "",
     "delete_cmd_prefix": "del ",
     "library": "var_list.py",
     "varRefreshCmd": "print(var_dic_list())"
    },
    "r": {
     "delete_cmd_postfix": ") ",
     "delete_cmd_prefix": "rm(",
     "library": "var_list.r",
     "varRefreshCmd": "cat(var_dic_list()) "
    }
   },
   "types_to_exclude": [
    "module",
    "function",
    "builtin_function_or_method",
    "instance",
    "_Feature"
   ],
   "window_display": false
  }
 },
 "nbformat": 4,
 "nbformat_minor": 4
}
